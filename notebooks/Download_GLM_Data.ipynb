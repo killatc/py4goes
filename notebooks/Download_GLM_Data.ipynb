{
 "cells": [
  {
   "cell_type": "code",
   "execution_count": 1,
   "metadata": {},
   "outputs": [],
   "source": [
    "%load_ext autoreload\n",
    "%autoreload 2"
   ]
  },
  {
   "cell_type": "code",
   "execution_count": 8,
   "metadata": {},
   "outputs": [],
   "source": [
    "import sys; sys.path.insert(0, \"../\")\n",
    "import os \n",
    "from py4goes import abi, glm\n",
    "import datetime as dt"
   ]
  },
  {
   "cell_type": "code",
   "execution_count": 13,
   "metadata": {},
   "outputs": [],
   "source": [
    "base_path = \"./output_data\"\n",
    "datetimes = [\n",
    "    # list of year, month, day and hour\n",
    "    [2024, 3, 13, 0], \n",
    "    [2024, 3, 13, 1],\n",
    "]"
   ]
  },
  {
   "cell_type": "code",
   "execution_count": 12,
   "metadata": {},
   "outputs": [
    {
     "name": "stdout",
     "output_type": "stream",
     "text": [
      "Downloading GLM for: 2024-03-13 00:00:00\n",
      "Downloading GLM for: 2024-03-13 01:00:00\n"
     ]
    }
   ],
   "source": [
    "for datetime in datetimes:\n",
    "    year, month, day, hour = datetime\n",
    "    str_datetime = dt.datetime.strptime(f\"{year}-{month}-{day} {hour:02d}\", \"%Y-%m-%d %H\")\n",
    "    print(f\"Downloading GLM for: {str_datetime}\")\n",
    "    glm.download_glm(\n",
    "        year=year, \n",
    "        month=month, \n",
    "        day=day, \n",
    "        hour=hour, \n",
    "        base_path=base_path, \n",
    "        product='GLM-L2-LCFA'\n",
    "    )\n",
    "    print(f\"Downloading ABI for: {str_datetime}\")\n",
    "    abi.download_abi(\n",
    "        year=year, \n",
    "        month=month, \n",
    "        day=day, \n",
    "        hour=hour, \n",
    "        base_path=base_path, \n",
    "        product='ABI-L2-CMIPF', \n",
    "        channel=13\n",
    "    )\n"
   ]
  }
 ],
 "metadata": {
  "kernelspec": {
   "display_name": "dev",
   "language": "python",
   "name": "python3"
  },
  "language_info": {
   "codemirror_mode": {
    "name": "ipython",
    "version": 3
   },
   "file_extension": ".py",
   "mimetype": "text/x-python",
   "name": "python",
   "nbconvert_exporter": "python",
   "pygments_lexer": "ipython3",
   "version": "3.7.10"
  },
  "orig_nbformat": 4
 },
 "nbformat": 4,
 "nbformat_minor": 2
}
